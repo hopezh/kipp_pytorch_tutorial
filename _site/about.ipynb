{
  "cells": [
    {
      "cell_type": "markdown",
      "metadata": {},
      "source": [
        "# About\n",
        "\n",
        "Finley Malloc is the Chief Data Scientist at Wengo Analytics. When not\n",
        "innovating on data platforms, Finley enjoys spending time unicycling and\n",
        "playing with her pet iguana.\n",
        "\n",
        "## Education\n",
        "\n",
        "University of California, San Diego \\| San Diego, CA PhD in Mathematics\n",
        "\\| Sept 2011 - June 2015\n",
        "\n",
        "Macalester College \\| St. Paul MA B.A in Economics \\| Sept 2007 - June\n",
        "2011\n",
        "\n",
        "## Experience\n",
        "\n",
        "Wengo Analytics \\| Head Data Scientist \\| April 2018 - present\n",
        "\n",
        "GeoScynce \\| Chief Analyst \\| Spet 2012 - April 2018"
      ],
      "id": "6b81f4e1-723d-4e49-a916-507fe55f551f"
    }
  ],
  "nbformat": 4,
  "nbformat_minor": 5,
  "metadata": {
    "kernelspec": {
      "display_name": "Python 3",
      "language": "python",
      "name": "python3"
    }
  }
}