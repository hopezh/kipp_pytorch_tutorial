{
  "cells": [
    {
      "cell_type": "markdown",
      "metadata": {},
      "source": [
        "# PyTorch I\n",
        "\n",
        "## 2. Tensors\n",
        "\n",
        "A nice overview page on PyTorch tensors is [PyTorch Basic\n",
        "Operations](https://jhui.github.io/2018/02/09/PyTorch-Basic-operations/).\n",
        "\n",
        "[PyTorch Tensors API](https://pytorch.org/docs/stable/tensors.html)\n",
        "\n",
        "### 2.1 Tensor Objects"
      ],
      "id": "5e52fbc9-4cd5-4184-b77e-0d5e8307e07e"
    },
    {
      "cell_type": "code",
      "execution_count": 1,
      "metadata": {},
      "outputs": [
        {
          "output_type": "stream",
          "name": "stdout",
          "text": [
            "tensor([1, 2, 3])\n",
            "tensor([ 2, -2])\n",
            "tensor([[1, 2, 9],\n",
            "        [3, 4, 7]])"
          ]
        }
      ],
      "source": [
        "import torch\n",
        "\n",
        "a = torch.tensor([1, 2, 3])\n",
        "b = torch.tensor([2, -2])\n",
        "c = torch.tensor(\n",
        "    [[1, 2, 9], \n",
        "     [3, 4, 7]]\n",
        ")\n",
        "\n",
        "print(a)\n",
        "print(b)\n",
        "print(c)"
      ],
      "id": "61f19fc9"
    },
    {
      "cell_type": "code",
      "execution_count": 2,
      "metadata": {},
      "outputs": [
        {
          "output_type": "display_data",
          "metadata": {},
          "data": {
            "text/plain": [
              "tensor(1)"
            ]
          }
        }
      ],
      "source": [
        "a[0]"
      ],
      "id": "2d3ff958"
    },
    {
      "cell_type": "markdown",
      "metadata": {},
      "source": [
        "Note that `tensor(1)` is still a `tensor`, not a `scalar`, which can\n",
        "only be accessed using the `item()` method."
      ],
      "id": "0a309ff4-c5db-4ecf-8dde-12aa570cfb73"
    },
    {
      "cell_type": "code",
      "execution_count": 3,
      "metadata": {},
      "outputs": [
        {
          "output_type": "display_data",
          "metadata": {},
          "data": {
            "text/plain": [
              "1"
            ]
          }
        }
      ],
      "source": [
        "a[0].item()"
      ],
      "id": "8f7a8837"
    },
    {
      "cell_type": "markdown",
      "metadata": {},
      "source": [
        "#### Tensor Shape\n",
        "\n",
        "The `shape` property of a tensor returns the `dimensions` of the tensor,\n",
        "i.e. `number of elements` in each `axis` of the tensor."
      ],
      "id": "84352ec6-4892-4905-9684-7193f39b404c"
    },
    {
      "cell_type": "code",
      "execution_count": 4,
      "metadata": {},
      "outputs": [
        {
          "output_type": "stream",
          "name": "stdout",
          "text": [
            "torch.Size([3])\n",
            "torch.Size([2])\n",
            "torch.Size([2, 3])"
          ]
        }
      ],
      "source": [
        "print(a.shape)\n",
        "print(b.shape)\n",
        "print(c.shape)"
      ],
      "id": "97e614de"
    },
    {
      "cell_type": "markdown",
      "metadata": {},
      "source": [
        "For a tensor with a single value, the shape is `null`."
      ],
      "id": "a5ad0ecc-6c6a-4ac4-a5da-08a388421bb5"
    },
    {
      "cell_type": "code",
      "execution_count": 5,
      "metadata": {},
      "outputs": [
        {
          "output_type": "display_data",
          "metadata": {},
          "data": {
            "text/plain": [
              "torch.Size([])"
            ]
          }
        }
      ],
      "source": [
        "a[0].shape"
      ],
      "id": "d52bd6f5"
    },
    {
      "cell_type": "markdown",
      "metadata": {},
      "source": [
        "#### Random values\n",
        "\n",
        "[torch.rand\n",
        "API](https://pytorch.org/docs/stable/generated/torch.rand.html)"
      ],
      "id": "71bc3995-e2de-4fbe-b57d-3929abd37fea"
    },
    {
      "cell_type": "code",
      "execution_count": 6,
      "metadata": {},
      "outputs": [
        {
          "output_type": "display_data",
          "metadata": {},
          "data": {
            "text/plain": [
              "tensor([[0.5832, 0.0255, 0.8967],\n",
              "        [0.5604, 0.6456, 0.8163]])"
            ]
          }
        }
      ],
      "source": [
        "rand_num = torch.rand(2, 3)\n",
        "rand_num"
      ],
      "id": "14e1f1d2"
    },
    {
      "cell_type": "markdown",
      "metadata": {},
      "source": [
        "#### Standard matrices"
      ],
      "id": "88de9aaa-e9ea-4f22-b268-78f2c20f3c73"
    },
    {
      "cell_type": "code",
      "execution_count": 7,
      "metadata": {},
      "outputs": [
        {
          "output_type": "display_data",
          "metadata": {},
          "data": {
            "text/plain": [
              "tensor([[1., 1., 1.],\n",
              "        [1., 1., 1.]])"
            ]
          }
        }
      ],
      "source": [
        "ones = torch.ones(2, 3)\n",
        "ones"
      ],
      "id": "7eeb59e0"
    },
    {
      "cell_type": "code",
      "execution_count": 8,
      "metadata": {},
      "outputs": [
        {
          "output_type": "display_data",
          "metadata": {},
          "data": {
            "text/plain": [
              "tensor([[0., 0., 0.],\n",
              "        [0., 0., 0.]])"
            ]
          }
        }
      ],
      "source": [
        "zeros = torch.zeros(2, 3)\n",
        "zeros"
      ],
      "id": "2d94559f"
    },
    {
      "cell_type": "code",
      "execution_count": 9,
      "metadata": {},
      "outputs": [
        {
          "output_type": "display_data",
          "metadata": {},
          "data": {
            "text/plain": [
              "tensor([[1., 0., 0., 0., 0.],\n",
              "        [0., 1., 0., 0., 0.],\n",
              "        [0., 0., 1., 0., 0.],\n",
              "        [0., 0., 0., 1., 0.],\n",
              "        [0., 0., 0., 0., 1.]])"
            ]
          }
        }
      ],
      "source": [
        "eyes = torch.eye(5)\n",
        "eyes"
      ],
      "id": "ea6f03a0"
    },
    {
      "cell_type": "markdown",
      "metadata": {},
      "source": [
        "#### Enumeration"
      ],
      "id": "eb1f6e8a-2b94-410e-afc8-862ca6928a97"
    },
    {
      "cell_type": "code",
      "execution_count": 10,
      "metadata": {},
      "outputs": [
        {
          "output_type": "display_data",
          "metadata": {},
          "data": {
            "text/plain": [
              "tensor([0, 1, 2, 3, 4])"
            ]
          }
        }
      ],
      "source": [
        "torch.arange(5)"
      ],
      "id": "7bbc2860"
    }
  ],
  "nbformat": 4,
  "nbformat_minor": 5,
  "metadata": {
    "kernelspec": {
      "name": "python3",
      "display_name": "Python 3 (ipykernel)",
      "language": "python"
    },
    "language_info": {
      "name": "python",
      "codemirror_mode": {
        "name": "ipython",
        "version": "3"
      },
      "file_extension": ".py",
      "mimetype": "text/x-python",
      "nbconvert_exporter": "python",
      "pygments_lexer": "ipython3",
      "version": "3.10.12"
    }
  }
}