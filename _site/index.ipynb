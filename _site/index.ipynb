{
  "cells": [
    {
      "cell_type": "markdown",
      "metadata": {},
      "source": [
        "# PyTorch Tutorials\n",
        "\n",
        "Notes of Prof Michael Kipp’s tutorials on PyTorch.\n",
        "\n",
        "-   [PyTorch I -\n",
        "    Foundamentals](https://michaelkipp.de/deeplearning/PyTorch_I.html)\n",
        "-   [PyTorch II - Neural\n",
        "    Networks](https://michaelkipp.de/deeplearning/PyTorch_II.html)"
      ],
      "id": "48fafdfa-b6d2-46d5-8d09-552f7c5d6862"
    }
  ],
  "nbformat": 4,
  "nbformat_minor": 5,
  "metadata": {
    "kernelspec": {
      "display_name": "Python 3",
      "language": "python",
      "name": "python3"
    }
  }
}